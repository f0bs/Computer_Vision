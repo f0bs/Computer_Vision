{
 "cells": [
  {
   "cell_type": "markdown",
   "metadata": {
    "colab_type": "text",
    "id": "ZKJHaVypsniI"
   },
   "source": [
    "# CS5670 Project 5 Notebook - Convolutional Neural Networks\n",
    "\n",
    "Welcome to Project 5 Notebook! In this project, you will learn:\n",
    "\n",
    "1. Basic use of the PyTorch deep learning library\n",
    "2. How to build and understand neural network models in PyTorch\n",
    "3. How to backpropagate through the network w.r.t the image\n",
    "4. How to generate adversarial examples\n",
    "\n",
    "If this is your first time working with PyTorch, **please go through the \"What is PyTorch\" and \"Neural Networks\" tutorials in [Deep Learning with PyTorch: A 60 Minute Blitz](http://pytorch.org/tutorials/beginner/deep_learning_60min_blitz.html)**. It won't take too long, but you will learn a lot and make this assignment much easier! You can use a new Colab notebook for the tutorials."
   ]
  },
  {
   "cell_type": "markdown",
   "metadata": {
    "colab_type": "text",
    "id": "03AnRY3FATkr"
   },
   "source": [
    "# Intro"
   ]
  },
  {
   "cell_type": "markdown",
   "metadata": {
    "colab_type": "text",
    "id": "4OvSJugE7bql"
   },
   "source": [
    "## Installation of Dependencies\n",
    "\n",
    "Run the below cell to install PyTorch for this notebook"
   ]
  },
  {
   "cell_type": "code",
   "execution_count": 2,
   "metadata": {
    "colab": {},
    "colab_type": "code",
    "id": "x4Wlyq6F7Vny"
   },
   "outputs": [
    {
     "name": "stdout",
     "output_type": "stream",
     "text": [
      "\u001b[33mDEPRECATION: Python 2.7 reached the end of its life on January 1st, 2020. Please upgrade your Python as Python 2.7 is no longer maintained. A future version of pip will drop support for Python 2.7. More details about Python 2 support in pip, can be found at https://pip.pypa.io/en/latest/development/release-process/#python-2-support\u001b[0m\n",
      "\u001b[31mERROR: torch-1.0.0-cp27-cp27m-linux_x86_64.whl is not a supported wheel on this platform.\u001b[0m\n"
     ]
    }
   ],
   "source": [
    "# http://pytorch.org/\n",
    "from os import path\n",
    "from wheel.pep425tags import get_abbr_impl, get_impl_ver, get_abi_tag\n",
    "platform = '{}{}-{}'.format(get_abbr_impl(), get_impl_ver(), get_abi_tag())\n",
    "\n",
    "accelerator = 'cu80' if path.exists('/opt/bin/nvidia-smi') else 'cpu'\n",
    "\n",
    "!pip install -q http://download.pytorch.org/whl/{accelerator}/torch-1.0.0-{platform}-linux_x86_64.whl torchvision==0.2.1\n",
    "!pip install pillow==6.2.1\n",
    "import torch"
   ]
  },
  {
   "cell_type": "markdown",
   "metadata": {
    "colab_type": "text",
    "id": "mRd82iJ0716-"
   },
   "source": [
    "## Useful Functions\n",
    "\n",
    "Run the below cell to initialize the provided functions that will be used in this assignment"
   ]
  },
  {
   "cell_type": "code",
   "execution_count": 3,
   "metadata": {},
   "outputs": [
    {
     "name": "stdout",
     "output_type": "stream",
     "text": [
      "5\n"
     ]
    }
   ],
   "source": []
  },
  {
   "cell_type": "code",
   "execution_count": 0,
   "metadata": {
    "colab": {},
    "colab_type": "code",
    "id": "fOgOA_TaVav-"
   },
   "outputs": [],
   "source": [
    "import torch\n",
    "import torch.nn as nn\n",
    "import torch.nn.functional as F\n",
    "import torchvision\n",
    "from torch.autograd import Variable\n",
    "\n",
    "import urllib\n",
    "import cv2\n",
    "import numpy as np\n",
    "import os, sys,  math, random, subprocess\n",
    "import matplotlib.pyplot as plt\n",
    "from scipy.ndimage.filters import gaussian_filter\n",
    "from IPython.display import clear_output, Image, display, HTML\n",
    "from google.protobuf import text_format\n",
    "from io import StringIO\n",
    "import PIL.Image\n",
    "\n",
    "# Configure matplotlib to render inline\n",
    "%matplotlib inline\n",
    "plt.rcParams['figure.figsize'] = (10, 10)        # large images\n",
    "plt.rcParams['image.interpolation'] = 'nearest'  # don't interpolate: show square pixels\n",
    "plt.rcParams['image.cmap'] = 'gray'  # use grayscale output rather than a (potentially misleading) color heatmap\n",
    "\n",
    "    \n",
    "def get_n_params(module):\n",
    "  nparam = 0\n",
    "  for name, param in module.named_parameters():\n",
    "    param_count = 1\n",
    "    for size in list(param.size()):\n",
    "      param_count *= size\n",
    "    nparam += param_count\n",
    "  return nparam\n",
    "\n",
    "def get_model_params(model):\n",
    "  nparam = 0\n",
    "  for name, module in model.named_modules():\n",
    "    nparam += get_n_params(module)\n",
    "  return nparam\n",
    "\n",
    "def np_img_from_url(url):\n",
    "  url_response = urllib.urlopen(url)\n",
    "  img_array = np.array(bytearray(url_response.read()), dtype=np.uint8)\n",
    "  img = cv2.imdecode(img_array, -1)\n",
    "  return img\n",
    "\n",
    "def to_numpy_image(tensor_or_variable):\n",
    "  \n",
    "  # If this is already a numpy image, just return it\n",
    "  if type(tensor_or_variable) == np.ndarray:\n",
    "    return tensor_or_variable\n",
    "  \n",
    "  # Make sure this is a tensor and not a variable\n",
    "  if type(tensor_or_variable) == Variable:\n",
    "    tensor = tensor_or_variable.data\n",
    "  else:\n",
    "    tensor = tensor_or_variable\n",
    "  \n",
    "  # Convert to numpy and move to CPU if necessary\n",
    "  np_img = tensor.detach().cpu().numpy()\n",
    "  \n",
    "  # If there is no batch dimension, add one\n",
    "  if len(np_img.shape) == 3:\n",
    "    np_img = np_img[np.newaxis, ...]\n",
    "  \n",
    "  # Convert from BxCxHxW (PyTorch convention) to BxHxWxC (OpenCV/numpy convention)\n",
    "  np_img = np_img.transpose(0, 2, 3, 1)\n",
    "  \n",
    "  return np_img\n",
    "\n",
    "\n",
    "def to_pytorch_image(np_image):\n",
    "  \n",
    "  # Create a batch dimension\n",
    "  if len(np_image.shape) == 3:\n",
    "    np_image = np_image[np.newaxis, ...]\n",
    "  \n",
    "  # Convert from BxHxWxC (OpenCV/numpy) to BxCxHxW (PyTorch)\n",
    "  np_image = np_image.transpose(0, 3, 1, 2)\n",
    "  \n",
    "  pytorch_img = torch.from_numpy(np_image).float()\n",
    "  \n",
    "  return pytorch_img\n",
    "  \n",
    "def draw_border(image_np, color):\n",
    "  color = np.asarray(color)\n",
    "  s = image_np.shape\n",
    "  image_np = image_np.copy()\n",
    "  image_np[0:5, :, :] = color[np.newaxis, np.newaxis, :]\n",
    "  image_np[:, 0:5, :] = color[np.newaxis, np.newaxis, :]\n",
    "  image_np[s[0]-5:s[0], :, :] = color[np.newaxis, np.newaxis, :]\n",
    "  image_np[:, s[0]-5:s[0], :] = color[np.newaxis, np.newaxis, :]\n",
    "  return image_np\n",
    "\n",
    "def normalize_zero_one_range(tensor_like):\n",
    "  x = tensor_like - tensor_like.min()\n",
    "  x = x / (x.max() + 1e-9)\n",
    "  return x\n",
    "\n",
    "\n",
    "def prep_for_showing(image):\n",
    "  np_img = to_numpy_image(image)\n",
    "  if len(np_img.shape) > 3:\n",
    "    np_img = np_img[0]\n",
    "  np_img = normalize_zero_one_range(np_img)\n",
    "  return np_img\n",
    "\n",
    "  \n",
    "def show_image(tensor_var_or_np, title=None, bordercolor=None):\n",
    "  np_img = prep_for_showing(tensor_var_or_np)\n",
    "  \n",
    "  if bordercolor is not None:\n",
    "    np_img = draw_border(np_img, bordercolor)\n",
    "  \n",
    "  # plot it\n",
    "  np_img = np_img.squeeze()\n",
    "  plt.figure(figsize=(4,4))\n",
    "  plt.imshow(np_img)\n",
    "  plt.axis('off')\n",
    "  if title: plt.title(title)\n",
    "  plt.show()\n",
    "    \n",
    "def show_images(images, correct_list=None, size=128, titles=None):\n",
    "  for i, image in enumerate(images):\n",
    "    bordercolor = ([0,1,0] if correct_list[i] else [1,0,0]) if correct_list else None\n",
    "    show_image(image, bordercolor=bordercolor, title=titles[i] if titles else None)\n",
    "    \n",
    "def show_image_rows(image_lists):\n",
    "  for l in image_lists:\n",
    "    #plt.figure(figsize=(1, len(l)))\n",
    "    #plt.axis('off')\n",
    "    f, axarr = plt.subplots(1,len(l))\n",
    "    #print(axarr)\n",
    "    for i,img in enumerate(l):\n",
    "      img_np = prep_for_showing(img).squeeze()\n",
    "      axarr[i].imshow(img_np)\n",
    "      axarr[i].axis('off')\n",
    "    plt.show()\n",
    "\n",
    "from bs4 import BeautifulSoup\n",
    "import requests\n",
    "\n",
    "def listFD(url, ext=''):\n",
    "  page = requests.get(url).text\n",
    "  soup = BeautifulSoup(page, 'html.parser')\n",
    "  return [url + '/' + node.get('href') for node in soup.find_all('a') if node.get('href').endswith(ext)]\n",
    "\n",
    "def url_to_image(url):\n",
    "\t# download the image, convert it to a NumPy array, and then read\n",
    "\t# it into OpenCV format\n",
    "  resp = urllib.request.urlopen(url)\n",
    "  image = np.asarray(bytearray(resp.read()), dtype=\"uint8\")\n",
    "  image = cv2.imdecode(image, cv2.IMREAD_COLOR)\n",
    "  \n",
    "  # Convert BGR to RGB\n",
    "  image = image[:, :, [2,1,0]]\n",
    "  \n",
    "  return image\n",
    "\n",
    "def url_to_text(url):\n",
    "  resp = urllib.request.urlopen(url)\n",
    "  text = resp.read()\n",
    "  return text.decode(\"utf-8\")"
   ]
  },
  {
   "cell_type": "markdown",
   "metadata": {
    "colab_type": "text",
    "id": "lW6HmGzZrfe-"
   },
   "source": [
    "## Dataset\n",
    "\n",
    "The following cell implements a Dataset that loads the images that will be used later in this assignment.\n",
    "\n",
    "It's a subclass of `torch.utils.data.Dataset`, which is a base class for Datasets in pytorch, and it is compatible with `torch.utils.data.Dataloader`. Dataloder is useful, because it allows us to easily load data in multiple background threads without writing any threading code. This is important, because one of the biggest bottlenecks in neural network training is the rate at which data can be fed into the model.\n",
    "\n",
    "A dataset implements `__len__` and `__getitem__`, which means samples from the dataset can be obtained by indexing it like `sample = dataset[5]`.\n",
    "\n",
    "A dataloader can be iterated and returns batches: `batch_0 = iter(dataloader).first()`\n",
    "\n",
    "`torchvision` is useful suite of utilities when doing computer vision work with PyTorch. It already [provides implementations for many of the most popular computer vision datasets](http://pytorch.org/docs/master/torchvision/datasets.html). In this notebook, we have rolled our own dataset that loads images from a URL."
   ]
  },
  {
   "cell_type": "code",
   "execution_count": 0,
   "metadata": {
    "colab": {},
    "colab_type": "code",
    "id": "mx8Gro4F2KhX"
   },
   "outputs": [],
   "source": [
    "from torch.utils.data import Dataset\n",
    "from torch.utils.data import DataLoader\n",
    "\n",
    "DATA_URL = \"http://www.cs.cornell.edu/courses/cs5670/2019sp/projects/pa5/assignment_data/dataset/\"\n",
    "IMAGENET_LABELS_URL = \"http://www.cs.cornell.edu/courses/cs5670/2019sp/projects/pa5/assignment_data/imagenet_classes.txt\"\n",
    "DOGS_DIR = \"test-dog\"\n",
    "FOOD_DIR = \"test-food\"\n",
    "\n",
    "IMAGENET_MEAN = torch.FloatTensor([0.485, 0.456, 0.406])\n",
    "IMAGENET_STD = torch.FloatTensor([0.229, 0.224, 0.225])\n",
    "\n",
    "class FoodAndDogDataset(Dataset):\n",
    "  \"\"\"\n",
    "  PyTorch DataLoader compatible dataset that pre-loads images from the dataset\n",
    "  directory on the CS5670 class website. Images are returned as tensors, normalized\n",
    "  with the imagenet normalization.\n",
    "  \"\"\"\n",
    "  def __init__(self, include_classes=\"both\"):\n",
    "    self.dog_paths = listFD(DATA_URL + DOGS_DIR, \".jpg\")\n",
    "    self.food_paths = listFD(DATA_URL + FOOD_DIR, \".jpg\")\n",
    "    \n",
    "    self.dog_labels = [0 for _ in self.dog_paths]\n",
    "    self.food_labels = [1 for _ in self.food_paths]\n",
    "    \n",
    "    self.img_paths = []\n",
    "    self.img_labels = []\n",
    "    \n",
    "    if include_classes in [\"both\", \"dogs\"]:\n",
    "      self.img_paths += self.dog_paths\n",
    "      self.img_labels += self.dog_labels\n",
    "    \n",
    "    if include_classes in [\"both\", \"food\"]:\n",
    "      self.img_paths += self.food_paths\n",
    "      self.img_labels += self.food_labels\n",
    "  \n",
    "    # We might not want to do this on a real dataset, if we have a lot of data.\n",
    "    # In that case we would lazy-download images.\n",
    "    # But for now we will pre-download them, because there's not that many\n",
    "    self.all_images_np = [url_to_image(url).astype(np.float32) / 255 for url in self.img_paths]\n",
    "  \n",
    "    print(f\"Initialized dataset: {include_classes} with {len(self.all_images_np)} images\")\n",
    "  \n",
    "  def __len__(self):\n",
    "    return len(self.img_paths)\n",
    "  \n",
    "  def __getitem__(self, idx):\n",
    "    img_i_np = self.all_images_np[idx]\n",
    "    label_i = self.img_labels[idx]\n",
    "\n",
    "    # Convert to pytorch. Copy so that we don't keep re-normalizing the same image multiple times.\n",
    "    img_i_tensor = to_pytorch_image(img_i_np.copy())\n",
    "\n",
    "    # Pre-process the image:\n",
    "    # Normalize using the mean and variance of the ImageNet dataset\n",
    "    # The model was trained from this dataset\n",
    "    img_i_tensor = img_i_tensor - IMAGENET_MEAN[np.newaxis, :, np.newaxis, np.newaxis].expand_as(img_i_tensor)\n",
    "    img_i_tensor = img_i_tensor / IMAGENET_STD[np.newaxis, :, np.newaxis, np.newaxis].expand_as(img_i_tensor)\n",
    "\n",
    "    assert img_i_tensor.size(2) == img_i_tensor.size(3) == 256, \"Images expected to be of shape 1x3x256x256\"\n",
    "    \n",
    "    # Take a center-crop of image, assuming the image is 256x256\n",
    "    img_i_tensor = img_i_tensor[:, :, 16:240, 16:240]\n",
    "\n",
    "    return img_i_tensor[0], label_i\n",
    "    \n",
    "dog_dataset = FoodAndDogDataset(include_classes=\"dogs\")\n",
    "food_dataset = FoodAndDogDataset(include_classes=\"food\")\n",
    "full_dataset = FoodAndDogDataset(include_classes=\"both\")"
   ]
  },
  {
   "cell_type": "markdown",
   "metadata": {
    "colab_type": "text",
    "id": "lGbM2TeLsWZx"
   },
   "source": [
    "## ILSVRC2012 class labels\n",
    "\n",
    "In this project, we will be using an AlexNet image-classifier model pre-trained on the ILSVRC2012 dataset. In order to understand the model's output, we need a maping from the output probabilities to the class names. We load this mapping in this cell."
   ]
  },
  {
   "cell_type": "code",
   "execution_count": 0,
   "metadata": {
    "colab": {},
    "colab_type": "code",
    "id": "meSl-Hlujqb1"
   },
   "outputs": [],
   "source": [
    "imagenet_id_to_label = {}\n",
    "labels_file = url_to_text(IMAGENET_LABELS_URL)\n",
    "labels_id2word = labels_file.split(\"\\n\")[:1000]\n",
    "print(labels_id2word)"
   ]
  },
  {
   "cell_type": "markdown",
   "metadata": {
    "colab_type": "text",
    "id": "GgIE09iYMgot"
   },
   "source": [
    "## Notes on PyTorch\n",
    "\n",
    "PyTorch implements many operations on Tensors (such as torch.FloatTensor or torch.LongTensor) in much the same way numpy implements operations on ndarray. Variables (torch.autograd.Variable) wrap tensors and can be used interchangeably. When an operation is performed on a Tensor, the output is a new Tensor. When it is performed on a Variable, the output is also a Variable.\n",
    "\n",
    "All operations involving Variables automatically build a computational graph (provided the requires_grad parameter is set to True on any of the Variable's involved in the operation). This means that at any point, calling `backward` on any Variable will compute the gradient of that Variable with respect to all other Variables. Thus calling `backward` on the loss function we're trying to optimize will calculate the gradient w.r.t model parameters, allowing us to implement gradient descent.\n",
    "\n",
    "We can also use `.backward` to calculate a gradient w.r.t the input, provided the `requires_grad` attribute on the input variable is set to true. After calling `backward`, the gradients can be accessed in the `.grad` attribute of the variable. Here is some fairly typical code that uses this functionality to access gradients with respect to an input variable:\n",
    "\n",
    "\n",
    "Given input and target of type torch.FloatTensor. First we must zero gradients on any variable that already has gradients coputed. On nn.Module, this zeroes gradients of all the model parameters.\n",
    "  \n",
    "```\n",
    "  some_model.zero_grad()\n",
    "```\n",
    "  \n",
    "Convert the input into a variable that requires gradient\n",
    "```\n",
    "  input_var = Variable(input, requires_grad=True)\n",
    "  target_var = Variable(target)\n",
    "```\n",
    "  \n",
    "Call the model and calculate the loss\n",
    "```\n",
    "  out = some_model(input_var)\n",
    "  loss = some_loss_function(out, target)\n",
    "```\n",
    "\n",
    "Run backpropagation\n",
    "```\n",
    "  loss.backward()\n",
    "```\n",
    "\n",
    "Access gradients of the loss with respect to the input\n",
    "```\n",
    "  grad_input = input_var.grad\n",
    "  \n",
    "  grad_input_tensor = grad_input.data\n",
    "  \n",
    "  grad_input_numpy = grad_input_tensor.cpu().numpy()\n",
    "  \n",
    "```\n",
    "\n",
    "The underlying Tensor can be accessed as the `data` attribute given a Variable.\n",
    "\n",
    "PyTorch implements many neural network operations in the `torch.nn` package. These are usually packaged in a `Module`, which allows for easy modular design of neural network architectures."
   ]
  },
  {
   "cell_type": "markdown",
   "metadata": {
    "colab_type": "text",
    "id": "VVqbnE_kqFcx"
   },
   "source": [
    "## AlexNet definition\n",
    "\n",
    "Below is the `Module` that implements AlexNet, copied from the `torchvision` package, with minor modifications for easier use in this assignment. Specifically, because the original implementation uses nn.Sequential containers, the individual layers are not directly accessible. We have made them directly accessible by defining the `shortcut_modules` attribute."
   ]
  },
  {
   "cell_type": "code",
   "execution_count": 0,
   "metadata": {
    "colab": {},
    "colab_type": "code",
    "id": "8wm4eaXPqMh7"
   },
   "outputs": [],
   "source": [
    "import torch.nn as nn\n",
    "import torch.utils.model_zoo as model_zoo\n",
    "\n",
    "\n",
    "model_urls = {\n",
    "    'alexnet': 'https://download.pytorch.org/models/alexnet-owt-4df8aa71.pth',\n",
    "}\n",
    "\n",
    "INPLACE = False\n",
    "\n",
    "class AlexNet(nn.Module):\n",
    "\n",
    "    def __init__(self, num_classes=1000):\n",
    "        super(AlexNet, self).__init__()\n",
    "        self.features = nn.Sequential(\n",
    "            nn.Conv2d(3, 64, kernel_size=11, stride=4, padding=2),\n",
    "            nn.ReLU(inplace=INPLACE),\n",
    "            nn.MaxPool2d(kernel_size=3, stride=2),\n",
    "            nn.Conv2d(64, 192, kernel_size=5, padding=2),\n",
    "            nn.ReLU(inplace=INPLACE),\n",
    "            nn.MaxPool2d(kernel_size=3, stride=2),\n",
    "            nn.Conv2d(192, 384, kernel_size=3, padding=1),\n",
    "            nn.ReLU(inplace=INPLACE),\n",
    "            nn.Conv2d(384, 256, kernel_size=3, padding=1),\n",
    "            nn.ReLU(inplace=INPLACE),\n",
    "            nn.Conv2d(256, 256, kernel_size=3, padding=1),\n",
    "            nn.ReLU(inplace=INPLACE),\n",
    "            nn.MaxPool2d(kernel_size=3, stride=2),\n",
    "        )\n",
    "        self.classifier = nn.Sequential(\n",
    "            nn.Dropout(),\n",
    "            nn.Linear(256 * 6 * 6, 4096),\n",
    "            nn.ReLU(inplace=INPLACE),\n",
    "            nn.Dropout(),\n",
    "            nn.Linear(4096, 4096),\n",
    "            nn.ReLU(inplace=INPLACE),\n",
    "            nn.Linear(4096, num_classes),\n",
    "        )\n",
    "        \n",
    "        self.module_shortcuts = {\n",
    "            \"conv1\": self.features[0],\n",
    "            \"relu1\": self.features[1],\n",
    "            \"conv2\": self.features[3],\n",
    "            \"relu2\": self.features[4],\n",
    "            \"conv3\": self.features[6],\n",
    "            \"relu3\": self.features[7],\n",
    "            \"conv4\": self.features[8],\n",
    "            \"relu4\": self.features[9],\n",
    "            \"conv5\": self.features[10],\n",
    "            \"relu5\": self.features[11],\n",
    "            \n",
    "            \"fc6\": self.classifier[2],\n",
    "            \"fc7\": self.classifier[5],\n",
    "            \"fc8\": self.classifier[6]\n",
    "        }\n",
    "    \n",
    "        \n",
    "    def __getitem__(self, layer_name):\n",
    "      if layer_name in self.module_shortcuts:\n",
    "        return self.module_shortcuts[layer_name]\n",
    "      return None\n",
    "    \n",
    "    \n",
    "    def shortcut_modules(self):\n",
    "      for name, mod in self.module_shortcuts.items():\n",
    "        yield name, mod\n",
    "    \n",
    "    \n",
    "    def forward(self, x):\n",
    "        x = self.features(x)\n",
    "        x = x.view(x.size(0), 256 * 6 * 6)\n",
    "        x = self.classifier(x)\n",
    "        return x\n",
    "\n",
    "\n",
    "def alexnet(pretrained=False, **kwargs):\n",
    "    r\"\"\"AlexNet model architecture from the\n",
    "    `\"One weird trick...\" <https://arxiv.org/abs/1404.5997>`_ paper.\n",
    "    Args:\n",
    "        pretrained (bool): If True, returns a model pre-trained on ImageNet\n",
    "    \"\"\"\n",
    "    model = AlexNet(**kwargs)\n",
    "    if pretrained:\n",
    "        print(\"Loading pre-trained weights from model zoo\")\n",
    "        model.load_state_dict(model_zoo.load_url(model_urls['alexnet']))\n",
    "    model.eval()\n",
    "    return model\n",
    "\n",
    "model = alexnet(pretrained=True, num_classes=1000)"
   ]
  },
  {
   "cell_type": "markdown",
   "metadata": {
    "colab_type": "text",
    "id": "JcYSK9JAHdGz"
   },
   "source": [
    "# Student TODO Implementations\n",
    "\n",
    "Implement all of your solutions in this secion"
   ]
  },
  {
   "cell_type": "markdown",
   "metadata": {
    "colab_type": "text",
    "id": "NeUYzjRI8PpA"
   },
   "source": [
    "**Answer TODO 1 here**:\n",
    "\n",
    "1. \n"
   ]
  },
  {
   "cell_type": "code",
   "execution_count": 0,
   "metadata": {
    "colab": {},
    "colab_type": "code",
    "id": "xIN6V6hkHdG1"
   },
   "outputs": [],
   "source": [
    "def convert_ilsvrc2012_probs_to_dog_vs_food_probs(probs_ilsvrc):\n",
    "    \"\"\"\n",
    "    Convert from 1000-class ILSVRC probabilities to 2-class \"dog vs food\"\n",
    "    incices.  Use the variables \"dog_indices\" and \"food_indices\" to map from\n",
    "    ILSVRC2012 classes to our classes.\n",
    "    HINT:\n",
    "    Compute \"probs\" by first estimating the probability of classes 0 and 1,\n",
    "    using probs_ilsvrc.  Stack together the two probabilities along axis 1, and\n",
    "    then normalize (along axis 1).\n",
    "    :param probs_ilsvrc: shape (N, 1000) probabilities across 1000 ILSVRC classes\n",
    "    :return probs: shape (N, 2): probabilities of each of the N items as being\n",
    "        either dog (class 0) or food (class 1).\n",
    "    \"\"\"\n",
    "    # in the ILSVRC2012 dataset, indices 151-268 are dogs and index 924-969 are foods\n",
    "    dog_indices = range(151, 269)\n",
    "    food_indices = range(924, 970)\n",
    "    N, _ = probs_ilsvrc.shape\n",
    "    probs = np.zeros((N, 2)) # placeholder\n",
    "    ############################ TODO 2 BEGIN #################################\n",
    "\n",
    "    ############################ TODO 2 END #################################\n",
    "    return probs"
   ]
  },
  {
   "cell_type": "code",
   "execution_count": 0,
   "metadata": {
    "colab": {},
    "colab_type": "code",
    "id": "ASYQcjNSHdG3"
   },
   "outputs": [],
   "source": [
    "def get_prediction_descending_order_indices(probs, cidx):\n",
    "    \"\"\"\n",
    "    Returns the ordering of probs that would sort it in descending order\n",
    "    :param probs: (N, 2) probabilities (computed in TODO 2)\n",
    "    :param cidx: class index (0 or 1)\n",
    "    :return list of N indices that sorts the array in descending order\n",
    "    \"\"\"\n",
    "    order = range(probs.shape[0]) # placeholder\n",
    "    ############################ TODO 3 BEGIN #################################\n",
    "\n",
    "    ############################ TODO 3 END #################################\n",
    "    return order"
   ]
  },
  {
   "cell_type": "code",
   "execution_count": 0,
   "metadata": {
    "colab": {},
    "colab_type": "code",
    "id": "BytOnBVGHdG5"
   },
   "outputs": [],
   "source": [
    "def compute_dscore_dimage(scores, image, class_idx):\n",
    "    \"\"\"\n",
    "    Returns the gradient of s_y (the score at index class_idx) with respect to\n",
    "    the image (data), ds_y / dI.  Note that this is the unnormalized class\n",
    "    score \"s\", not the probability \"p\".\n",
    "    :param scores: (Variable) shape (1000) the output scores from AlexNet for image\n",
    "    :param image: (Variable) shape (1, 3, 224, 244) the input image\n",
    "    :param class_idx: class index in range [0, 999] indicating which class to compute saliency for\n",
    "    :return grad: (Tensor) shape (3, 224, 224), gradient ds_y / dI\n",
    "    \"\"\"\n",
    "    grad = torch.zeros_like(image) # placeholder\n",
    "    ############################ TODO 4 BEGIN #################################\n",
    "\n",
    "    ############################ TODO 4 END #################################\n",
    "    assert tuple(grad.shape) == (1, 3, 224, 224) # expected shape\n",
    "    return grad[0]"
   ]
  },
  {
   "cell_type": "code",
   "execution_count": 0,
   "metadata": {
    "colab": {},
    "colab_type": "code",
    "id": "B6sUg4mpHdG7"
   },
   "outputs": [],
   "source": [
    "def normalized_sgd_with_momentum_update(image, grad, velocity, momentum, learning_rate):\n",
    "    \"\"\"\n",
    "    :param image: (Variable) shape (1, 3, 224, 244) the current solution\n",
    "    :param grad: (Variable) gradient of the loss with respect to the image\n",
    "    :param velocity: (Variable) momentum vector \"V\"\n",
    "    :param momentum: (float) momentum parameter \"mu\"\n",
    "    :param learning_rate: (float) learning rate \"alpha\"\n",
    "    :return: (Variable) the updated image and momentum vector (image, velocity)\n",
    "    \"\"\"\n",
    "    ############################ TODO 5a BEGIN #################################\n",
    "\n",
    "    ############################ TODO 5a BEGIN #################################\n",
    "    return image, velocity"
   ]
  },
  {
   "cell_type": "code",
   "execution_count": 0,
   "metadata": {
    "colab": {},
    "colab_type": "code",
    "id": "J_mm_o-EHdHA"
   },
   "outputs": [],
   "source": [
    "def class_visualization_gradient(target_score, image, target_class, reg_lambda):\n",
    "    \"\"\"\n",
    "    Compute the gradient for make_class_visualization (dL / dI).\n",
    "    :param target_score: (Variable) holding the current score assigned to the target class\n",
    "    :param image: (Variable) shape (1, 3, 224, 224) the current solution\n",
    "    :param target_class: (int) ILSVRC class in range [0, 999]\n",
    "    :param regularization: (float) weight (lambda) applied to the regularizer.\n",
    "    :return grad: (Variable) gradient dL / dI\n",
    "    \"\"\"\n",
    "    grad = torch.zeros_like(image) # placeholder\n",
    "\n",
    "    ############################ TODO 6 BEGIN #################################\n",
    "\n",
    "    ############################ TODO 6 END #################################\n",
    "    assert tuple(grad.shape) == (1, 3, 224, 224) # expected shape\n",
    "    return grad"
   ]
  },
  {
   "cell_type": "code",
   "execution_count": 0,
   "metadata": {
    "colab": {},
    "colab_type": "code",
    "id": "76P0krvGHdG9"
   },
   "outputs": [],
   "source": [
    "def fooling_image_gradient(target_score, orig_data, image_in, target_class, reg_lambda):\n",
    "    \"\"\"\n",
    "    Compute the gradient for make_fooling_image (dL / dI).\n",
    "    :param target_score: (Variable) holding the current score assigned to the target class\n",
    "    :param orig_data: (Variable) shape (1, 3, 224, 224) holding the original image\n",
    "    :param image_in: (Variable) shape (1, 3, 224, 224) hoding the current solution\n",
    "    :param target_class: (int) ILSVRC class in range [0, 999]\n",
    "    :param reg_lambda: (float) weight applied to the regularizer.\n",
    "    :return grad: (Variable) gradient dL / dI\n",
    "    \"\"\"\n",
    "    grad = torch.zeros_like(image_in) # placeholder\n",
    "    ############################ TODO 5b BEGIN #################################\n",
    "\n",
    "    ############################ TODO 5b END #################################\n",
    "    assert tuple(grad.shape) == (1, 3, 224, 224) # expected shape\n",
    "    return grad"
   ]
  },
  {
   "cell_type": "markdown",
   "metadata": {
    "colab_type": "text",
    "id": "bbbGp7inK3xD"
   },
   "source": [
    "# 1. AlexNet: Visualizing Structure\n",
    "\n",
    "The AlexNet model consists of 5 convolutional layers and three fully connected layers.\n",
    "Each of these layers is encapsulated in an `nn.Module` class that has one or more trainable parameters.\n",
    "\n",
    "We can look the shapes of each of the model parameters using the below cell:"
   ]
  },
  {
   "cell_type": "code",
   "execution_count": 0,
   "metadata": {
    "colab": {},
    "colab_type": "code",
    "id": "cObpits4Lbk3"
   },
   "outputs": [],
   "source": [
    "model_num_params = 0\n",
    "\n",
    "# Loop through all modules\n",
    "model_num_params = get_n_params(model)\n",
    "print(f\"# params in AlexNet: {model_num_params}\")\n",
    "\n",
    "# Loop through the select modules that we've named:\n",
    "for simple_name, module in model.shortcut_modules():\n",
    "  if hasattr(module, \"weight\"):\n",
    "    print(f\"Module {simple_name} weights: {module.weight.size()} bias: {module.bias.size()}\")"
   ]
  },
  {
   "cell_type": "markdown",
   "metadata": {
    "colab_type": "text",
    "id": "NqQuveNYx-iO"
   },
   "source": [
    "### Visualizing conv1 filters\n",
    "\n",
    "Filters in conv1 are unique in that they take RGB images as input. This means that we can visualize them as RGB images. For all other layers, we cannot view them as nice little colored squares because they are much higher dimensional."
   ]
  },
  {
   "cell_type": "code",
   "execution_count": 0,
   "metadata": {
    "colab": {},
    "colab_type": "code",
    "id": "r14ROgcGPoTT"
   },
   "outputs": [],
   "source": [
    "def vis_square(data, title=None):\n",
    "    \"\"\"Take a Tensor of shape (n, K, height, width) or (n, K, height, width)\n",
    "       and visualize each (height, width) thing in a grid of size approx. sqrt(n) by sqrt(n)\"\"\"\n",
    "    \n",
    "    if data.size(1) > 3:\n",
    "      data = data.view(-1, 1, data.size(2), data.size(3))\n",
    "        \n",
    "    data = to_numpy_image(data)\n",
    "        \n",
    "    # normalize data for display\n",
    "    data = (data - data.min()) / (data.max() - data.min())\n",
    "    \n",
    "    # force the number of filters to be square\n",
    "    n = int(np.ceil(np.sqrt(data.shape[0])))\n",
    "    padding = (((0, n ** 2 - data.shape[0]),\n",
    "               (0, 2), (0, 2))                 # add some space between filters\n",
    "               + ((0, 0),) * (data.ndim - 3))  # don't pad the last dimension (if there is one)\n",
    "    data = np.pad(data, padding, mode='constant', constant_values=1)  # pad with ones (white)\n",
    "    \n",
    "    # tile the filters into an image\n",
    "    data = data.reshape((n, n) + data.shape[1:]).transpose((0, 2, 1, 3) + tuple(range(4, data.ndim + 1)))\n",
    "    data = data.reshape((n * data.shape[1], n * data.shape[3]) + data.shape[4:])\n",
    "    \n",
    "    data = data.squeeze()\n",
    "    \n",
    "    # plot it\n",
    "    plt.figure(figsize=(8, 8))\n",
    "    plt.imshow(data)\n",
    "    plt.axis('off')\n",
    "    if title: plt.title(title)\n",
    "      \n",
    "\n",
    "weights = model.features[0].weight.data\n",
    "vis_square(weights, title=\"Visualizing filters in conv1\")"
   ]
  },
  {
   "cell_type": "markdown",
   "metadata": {
    "colab_type": "text",
    "id": "MZHXyFT_06qH"
   },
   "source": [
    "## Visualizing AlexNet activations.\n",
    "\n",
    "PyTorch uses dynamic computational graphs. As a result of this, there is no way for us to directly access the intermediate activations as there is no fixed placeholder for them. In PyTorch, we can access intermediate activations using hooks. A forward hook is a function that gets called every time that the forward method on a module has been executed. To access intermediate activations, we register a forward hook that displays the activations.\n",
    "\n",
    "Let's take an example image and pass it through AlexNet.\n",
    "\n",
    "Visualize the activations inside all of these layers, using the code below. Lighter values have higher magnitude, and darker values have smaller magnitude."
   ]
  },
  {
   "cell_type": "code",
   "execution_count": 0,
   "metadata": {
    "colab": {},
    "colab_type": "code",
    "id": "rumIQNU-SCV6"
   },
   "outputs": [],
   "source": [
    "# Load the image of the dog\n",
    "example_image, label = dog_dataset[10]\n",
    "show_image(example_image)"
   ]
  },
  {
   "cell_type": "code",
   "execution_count": 0,
   "metadata": {
    "colab": {},
    "colab_type": "code",
    "id": "aGaOYY0hUAAJ"
   },
   "outputs": [],
   "source": [
    "import functools\n",
    "\n",
    "# Re-define the model to clear any previously registered hooks\n",
    "model = alexnet(pretrained=True, num_classes=1000)\n",
    "\n",
    "# Define a hook that visualizes a layer output\n",
    "def show_activations_hook(name, module, input, output):\n",
    "  \n",
    "  print(f\"Visualizing layer: {name}\")\n",
    "  # For conv/relu layer outputs (BxCxHxW) we plot an image as before\n",
    "  if output.dim() == 4:\n",
    "    vis_square(output, f\"Activations on: {name}\")\n",
    "  \n",
    "  # For linear layer outputs, we plot the activations as a line plot\n",
    "  else:\n",
    "    feat = output.data.view([-1]).cpu().numpy()\n",
    "    plt.figure(figsize=(15, 3))\n",
    "    plt.plot(feat)\n",
    "    plt.title(f\"Activations on: {name}\")\n",
    "  \n",
    "# Register the hook on the select set of modules\n",
    "for name, module in model.shortcut_modules():\n",
    "  hook = functools.partial(show_activations_hook, name)\n",
    "  module.register_forward_hook(hook)\n",
    "  \n",
    "# PyTorch modules work on minibatches and expect the first axis to be the batch axis\n",
    "# If we run a model on a single image, we must turn this into a batch of size 1\n",
    "model_input = Variable(example_image[np.newaxis, ...])\n",
    "\n",
    "# Run the forward pass on the model\n",
    "class_activations = model(model_input)[0]"
   ]
  },
  {
   "cell_type": "markdown",
   "metadata": {
    "colab_type": "text",
    "id": "s_oKdln-b535"
   },
   "source": [
    "### ?? Question ??\n",
    "\n",
    "Consider the visualizations produced by the above cell. Why does `fc8` have negative values, but `fc6` and `fc7` are only positive?\n",
    "\n",
    "HINT: Look at the structure of the network above, and our selection of named layers in `AlexNet.module_shortcuts`."
   ]
  },
  {
   "cell_type": "markdown",
   "metadata": {
    "colab_type": "text",
    "id": "jisyKn83IW2-"
   },
   "source": [
    "###**<font color='red' size='3em'>TODO 1: Write your answer in the \"Student Implementations\" cell as a comment</font>**"
   ]
  },
  {
   "cell_type": "markdown",
   "metadata": {
    "colab_type": "text",
    "id": "zYY7G9p_gTft"
   },
   "source": [
    "## Looking up the class names\n",
    "\n",
    "The AlexNet model above outputs unconstrained class \"scores\". To turn these scores into a valid probability distribution over the 1000 ImageNet classes, we apply the softmax activation. We can find the index of the class with the maximum score and map that back to a description of the class in words."
   ]
  },
  {
   "cell_type": "code",
   "execution_count": 0,
   "metadata": {
    "colab": {},
    "colab_type": "code",
    "id": "itp22TUEC7ip"
   },
   "outputs": [],
   "source": [
    "# Load the image of the hot dog\n",
    "example_image, label = dog_dataset[10]\n",
    "show_image(example_image)\n",
    "\n",
    "# Re-define the model to clear any previously registered hooks\n",
    "model = alexnet(pretrained=True, num_classes=1000)\n",
    "\n",
    "# Set to eval mode to disable dropout\n",
    "model.eval()\n",
    "\n",
    "model_input = example_image[np.newaxis, ...]\n",
    "\n",
    "model_input = model_input.clone()\n",
    "\n",
    "# Run the forward pass on the model\n",
    "class_activations = model(Variable(model_input))[0]\n",
    "\n",
    "# Compute class probabilities\n",
    "class_probs = F.softmax(class_activations, dim=0)\n",
    "\n",
    "# Get the class index\n",
    "prob, class_idx = torch.max(class_probs, 0)\n",
    "\n",
    "# Take the integer index out of the variable and tensor\n",
    "class_idx = class_idx.data.item()\n",
    "\n",
    "predicted_class_name = labels_id2word[class_idx]\n",
    "print(f\"Predicted class: {class_idx} - {predicted_class_name} with probability {prob.data.item()}\")"
   ]
  },
  {
   "cell_type": "markdown",
   "metadata": {
    "colab_type": "text",
    "id": "d0k8Uighq-_e"
   },
   "source": [
    "** What to expect **\n",
    "\n",
    "We can see that this example was correctly classified, and with high confidence, despite the dog wearing a misleading costume!"
   ]
  },
  {
   "cell_type": "markdown",
   "metadata": {
    "colab_type": "text",
    "id": "pNA5ci6-rJ6l"
   },
   "source": [
    "# 2. Dog vs Food: Classification\n",
    "\n",
    "Let's classify dog vs food. We have prepared a test set of dogs dressed up like hotdogs, and hotdogs cut to look like animals.\n",
    "The below cell visualizes all the images in our dataset:"
   ]
  },
  {
   "cell_type": "code",
   "execution_count": 0,
   "metadata": {
    "colab": {},
    "colab_type": "code",
    "id": "sQZZQI1ItAul"
   },
   "outputs": [],
   "source": [
    "classes = ['dog', 'food']\n",
    "class_datasets = [dog_dataset, food_dataset]\n",
    "\n",
    "for cidx, cname in enumerate(classes):\n",
    "  for i, (image, label) in enumerate(class_datasets[cidx]):\n",
    "    if i >= 3:\n",
    "      break\n",
    "    show_image(image, classes[label])"
   ]
  },
  {
   "cell_type": "markdown",
   "metadata": {
    "colab_type": "text",
    "id": "5cyNYRpxtfCq"
   },
   "source": [
    "### Repurposing the ILSVRC2012 Classifier\n",
    "\n",
    "AlexNet was trained to recognize one of 1000 classes. We can repurpose it for our \"food vs dog\" task by remapping the categories."
   ]
  },
  {
   "cell_type": "markdown",
   "metadata": {
    "colab_type": "text",
    "id": "kN7oEO97Ikpc"
   },
   "source": [
    "###**<font color=\"red\">TODO 2: Implement `convert_ilsvrc2012_probs_to_dog_vs_food_probs`</font>**"
   ]
  },
  {
   "cell_type": "code",
   "execution_count": 0,
   "metadata": {
    "colab": {},
    "colab_type": "code",
    "id": "Rdysr684tclG"
   },
   "outputs": [],
   "source": [
    "# Re-define the model to clear any previously registered hooks\n",
    "model = alexnet(pretrained=True, num_classes=1000)\n",
    "N = len(full_dataset)\n",
    "\n",
    "dataloader = DataLoader(\n",
    "    full_dataset,\n",
    "    batch_size=1024,\n",
    "    shuffle=False,\n",
    "    num_workers=0,\n",
    "    pin_memory=False,\n",
    "    drop_last=False)\n",
    "\n",
    "assert len(dataloader) == 1, \"Since batch_size is bigger than the number of examples, we should only have one batch\"\n",
    "\n",
    "for batch in dataloader:\n",
    "  images = batch[0]\n",
    "  labels = batch[1]\n",
    "  labels_np = labels.numpy()\n",
    "  \n",
    "  class_activations = model(Variable(images))\n",
    "  ilsvrc_class_probs = F.softmax(class_activations, dim=1)\n",
    "  \n",
    "  # Convert from Variable containing FloatTensor to numpy ndarray\n",
    "  ilsvrc_class_probs_np = ilsvrc_class_probs.data.cpu().numpy()\n",
    "\n",
    "  dogfood_class_probs_np = convert_ilsvrc2012_probs_to_dog_vs_food_probs(ilsvrc_class_probs_np)\n",
    "\n",
    "  assert list(dogfood_class_probs_np.shape) == [N, 2]\n",
    "  \n",
    "  np.testing.assert_almost_equal(np.sum(dogfood_class_probs_np, axis=1), np.ones(N), decimal=5)\n",
    "  \n",
    "  print(\"Seems correct!\")"
   ]
  },
  {
   "cell_type": "markdown",
   "metadata": {
    "colab_type": "text",
    "id": "2oSvGnab3HGw"
   },
   "source": [
    "### Measuring the accuracy\n",
    "\n",
    "You should expect to get ~90% accuracy for dogs and ~96% accuracy for food with an overall accuracy of 93%.\n"
   ]
  },
  {
   "cell_type": "code",
   "execution_count": 0,
   "metadata": {
    "colab": {},
    "colab_type": "code",
    "id": "Ov-Gjga63R3S"
   },
   "outputs": [],
   "source": [
    "predicted_class = np.argmax(dogfood_class_probs_np, axis=1)\n",
    "correct_mask = predicted_class == labels_np\n",
    "num_correct = np.sum(correct_mask)\n",
    "accuracy = 100.0 * float(num_correct) / N\n",
    "\n",
    "print(f\"Overall accuracy {accuracy} {num_correct} / {N}\")\n",
    "\n",
    "for cidx, cname in enumerate(classes):\n",
    "  cls_mask = labels_np == cidx\n",
    "  predicted_cls = predicted_class[cls_mask]\n",
    "  num_correct = np.sum(predicted_cls == cidx)\n",
    "  cls_acc = 100.0 * float(num_correct) / cls_mask.sum()\n",
    "\n",
    "  print(f\"{cname} class accuracy {cls_acc} {num_correct} / {cls_mask.sum()}\")"
   ]
  },
  {
   "cell_type": "markdown",
   "metadata": {
    "colab_type": "text",
    "id": "GKHD0yMj6gfx"
   },
   "source": [
    "# 3. Dog vs Food: Visualization\n",
    "\n",
    "We can sort the predictions by the \"dog\" score and \"food\" score. The images are sorted according to how much AlexNet thinks the image belongs to that category.\n",
    "\n",
    "Images are colored green/red depending on whether the prediction was correct.\n",
    "\n",
    "For this assignment, you should expect that the incorrect predictions are all near the bottom (with the lowest score). This is a property that is very desirable -- mistakes only happen with lower scores. Note that in general real-world tasks, this does not always happen for free. If you want to be able to estimate the confidence of being correct, you need to separately predict that, and it is not easy to predict."
   ]
  },
  {
   "cell_type": "markdown",
   "metadata": {
    "colab_type": "text",
    "id": "ZKDHeJmJ7Mxy"
   },
   "source": [
    "###**<font color=\"red\"> TODO 3: Implement get_prediction_descending_order_indices </font>**"
   ]
  },
  {
   "cell_type": "code",
   "execution_count": 0,
   "metadata": {
    "colab": {},
    "colab_type": "code",
    "id": "02RKNRPY60O1"
   },
   "outputs": [],
   "source": [
    "for cidx, cname in enumerate(classes):\n",
    "  print(f\"Predictions for class: {cname}\")\n",
    "  cls_mask = labels_np == cidx\n",
    "  predicted_cls = predicted_class[cls_mask]\n",
    "  cls_probs = dogfood_class_probs_np[cls_mask]\n",
    "  correct = [p == cidx for p in predicted_cls]\n",
    "  \n",
    "  cls_images = [images[i] for i in range(len(images)) if cls_mask[i]]\n",
    "  \n",
    "  order = get_prediction_descending_order_indices(cls_probs, cidx)\n",
    "  \n",
    "  assert len(order) == cls_mask.sum()\n",
    "  \n",
    "  show_images(\n",
    "    images = [cls_images[i] for i in order],\n",
    "    correct_list = [correct[i] for i in order],\n",
    "    titles = [f\"Prob: {cls_probs[i, cidx]}\" for i in order],\n",
    "    size=128\n",
    "  )"
   ]
  },
  {
   "cell_type": "markdown",
   "metadata": {
    "colab_type": "text",
    "id": "v7VTtL08Wu6s"
   },
   "source": [
    "# 4. Visualizing saliency\n",
    "Using our pre-trained AlexNet, we will compute class saliency maps as described in Section 3.1 of [2]. As mentioned in Section 2 of the paper, you should compute the gradient with respect to the image of the unnormalized class score (fc8), not of the normalized class probability (prob). You will need to use the backward method of the module to compute gradients with respect to the image.\n",
    "\n",
    "We want to compute: $${\\partial s_y \\over \\partial I}$$\n",
    "\n",
    "where $s_y$ is the score for class $y$ after layer fc8, but before applying the Softmax layer.\n",
    "\n",
    "We will then visualize the squared magnitude of this (max across color channels), to estimate the saliency of the class across the input image. See [1] for more details and intuition.\n",
    "\n"
   ]
  },
  {
   "cell_type": "markdown",
   "metadata": {
    "colab_type": "text",
    "id": "ca-86RR2Iue6"
   },
   "source": [
    "###**<font color=\"red\">TODO 4: Implement compute_dscore_dimage</font>**\n",
    "\n",
    "NOTE: You don't need to call model() in your function; this has already been run for you. Same for all gradient functions you implement below.\n",
    "\n",
    "[[2] Karen Simonyan, Andrea Vedaldi, and Andrew Zisserman. \"Deep Inside Convolutional Networks: Visualising Image Classification Models and Saliency Maps\", ICLR Workshop 2014.](http://arxiv.org/pdf/1312.6034.pdf)"
   ]
  },
  {
   "cell_type": "code",
   "execution_count": 0,
   "metadata": {
    "colab": {},
    "colab_type": "code",
    "id": "EALHRPbRXhMT"
   },
   "outputs": [],
   "source": [
    "model = alexnet(pretrained=True)\n",
    "\n",
    "def visualize_saliency(image):\n",
    "    image_in = Variable(image.unsqueeze(0), requires_grad=True)\n",
    "    cls_scores = model(image_in)[0]\n",
    "    max_score, max_idx = torch.max(cls_scores, 0)\n",
    "  \n",
    "    grad = compute_dscore_dimage(cls_scores, image_in, max_idx)\n",
    "    \n",
    "    vis = grad * grad\n",
    "    vis, _ = torch.max(vis, 0)\n",
    "    \n",
    "    return vis\n",
    "\n",
    "class_datasets = [dog_dataset, food_dataset]\n",
    "  \n",
    "num_images = 6\n",
    "for cidx, cname in enumerate(classes):\n",
    "  \n",
    "  print(f\"Saliency for class: {cname}\")\n",
    "  in_images = []\n",
    "  vis_images = []\n",
    "  \n",
    "  for i, sample in enumerate(class_datasets[cidx]):\n",
    "    image_i = sample[0]\n",
    "    label_i = sample[1]\n",
    "  \n",
    "    vis_image = visualize_saliency(image_i)\n",
    "    \n",
    "    assert list(vis_image.shape) == [224, 224]\n",
    "    \n",
    "    vis_images.append(vis_image.unsqueeze(0))\n",
    "    in_images.append(image_i)\n",
    "    if i >= num_images:\n",
    "      break\n",
    "  \n",
    "  row_list = list(zip(in_images, vis_images))\n",
    "  \n",
    "  show_image_rows(row_list)\n",
    "  \n",
    "  cls_mask = labels_np == cidx\n",
    "  predicted_cls = predicted_class[cls_mask]\n",
    "  cls_probs = dogfood_class_probs_np[cls_mask]"
   ]
  },
  {
   "cell_type": "markdown",
   "metadata": {
    "colab_type": "text",
    "id": "V3qAllQ7YCe3"
   },
   "source": [
    "# 5. Fooling AlexNet\n",
    "For many machine learning models, it is possible to \"fool\" them by tweaking the image slightly so that the image is predicted to become any category [1]. Given any image, and any target class, you can perform gradient ascent to maximize the score of that target class (equivalently, gradient descent on the negative score of that class), stopping when the network confidently predicts it as the target class.\n",
    "\n",
    "Again, maximize the score with respect to the unnormalized class score (fc8) and not the normalized class probability (prob).\n",
    "\n",
    "In addition to maximizing the score (minimizing the negative score), also add a regularizer that computes the L2 norm between the original image, and the fooling image. The final gradient will be the sum of the gradient from the regularizer and the gradient from maximizing the class score.\n",
    "\n",
    "We can write this as a loss $L$: $$\n",
    "L = -s_y(I) + R(I)\n",
    "$$\n",
    "\n",
    "where $$\n",
    "R(I) = 0.5 \\lambda \\|I - I_\\text{orig}\\|_2^2\n",
    "$$$y$ is the target class, and $\\lambda$ is the regularization.\n",
    "\n",
    "**Momentum**\n",
    "\n",
    "When optimizing functions with ConvNets, typically you use use gradient descent with momentum, which has the update rule: $$V_t = \\mu V_{t-1} - \\alpha G$$$$I_t = I_{t-1} + V_{t}$$\n",
    "\n",
    "where $V$ is the velocity, $\\alpha$ is the learning rate, $\\mu$ is the momentum parameter, $t$ is the iteration number, and $G = \\frac{\\partial L}{\\partial I_{t-1}}$ is the gradient.\n",
    "\n",
    "To improve stability, we will use a slightly different update, which normalizes the gradient $G$ to have unit norm: $$V_t = \\mu V_{t-1} - \\alpha \\frac{G}{\\|G\\|}$$$$I_t = I_{t-1} + V_{t}$$\n",
    "\n",
    "The norm ${\\|G\\|}$ is the 2-norm of all the elements in $G$ flattened into a vector.\n",
    "\n",
    "[1] Szegedy et al, \"Intriguing properties of neural networks\", ICLR 2014"
   ]
  },
  {
   "cell_type": "markdown",
   "metadata": {
    "colab_type": "text",
    "id": "C7Mc2Tnrj_cf"
   },
   "source": [
    "###**<font color=\"red\">TODO 5a: Implement the above update rule, normalized_sgd_with_momentum_update</font>**"
   ]
  },
  {
   "cell_type": "markdown",
   "metadata": {
    "colab_type": "text",
    "id": "9a0qV-9UkKZc"
   },
   "source": [
    "###**<font color=\"red\">TODO 5b: Implement fooling_image_gradient which returns the gradient of the loss with respect to the image $({\\partial L \\over \\partial I})$.**"
   ]
  },
  {
   "cell_type": "code",
   "execution_count": 0,
   "metadata": {
    "colab": {},
    "colab_type": "code",
    "id": "lcASHoE3Y7Vr"
   },
   "outputs": [],
   "source": [
    "model = alexnet(pretrained=True)\n",
    "\n",
    "# Set the model to eval mode\n",
    "model.eval()\n",
    "\n",
    "def make_fooling_image(image, target_class, learning_rate, regularization,\n",
    "                       num_iter, momentum, threshold=0.9):\n",
    "    \"\"\"\n",
    "    Fool AlexNet into thinking that any image has a particular class, by perturbing it just a little bit\n",
    "    \n",
    "    :param image: starting image CxHxW tensor\n",
    "    :param target_class: the class that this will become after optimization\n",
    "    :param learning_rate: either a constant, or a function that returns the learning rate at each iteration\n",
    "    :param regularization: lambda parameter to multiply the regularizer\n",
    "    :param num_iter: maximum number of iterations\n",
    "    :param momentum: amount of momentum to use in the SGD \n",
    "    :param threshold: the target score for target_class\n",
    "    \"\"\"\n",
    "    # Create batch dimension and turn into a variable\n",
    "    image = image[np.newaxis, ...]\n",
    "    \n",
    "    print(f\"Fooling AlexNet into thinking this is a: {labels_id2word[target_class]}\")\n",
    "    \n",
    "    # This is the original image (used by the regularizer)\n",
    "    orig_data = Variable(image.clone())\n",
    "    \n",
    "    image_in = Variable(image, requires_grad=True)\n",
    "    velocity = torch.zeros_like(image_in)\n",
    "        \n",
    "    for i in range(num_iter):\n",
    "        curr_scores = model(image_in)[0]\n",
    "        curr_probs = F.softmax(curr_scores, 0)\n",
    "        \n",
    "        target_prob = curr_probs[target_class]\n",
    "        target_score = curr_scores[target_class]\n",
    "                \n",
    "        # compute the gradient\n",
    "        grad_wrt_image = fooling_image_gradient(\n",
    "            target_score, orig_data, image_in, target_class, regularization)\n",
    "        \n",
    "        # update the image with the SGD rule\n",
    "        image_in, velocity = normalized_sgd_with_momentum_update(\n",
    "            image_in, grad_wrt_image, velocity, momentum, learning_rate)\n",
    "        \n",
    "        # Detach the image and velocity so that we don't backprop through\n",
    "        # multiple iterations of the loop\n",
    "        image_in = Variable(image_in.data, requires_grad = True)\n",
    "        velocity = Variable(velocity.data, requires_grad = False)\n",
    "        \n",
    "        # Zero the gradients\n",
    "        model.zero_grad()\n",
    "        \n",
    "        # Take the target probability out of the variable (turn it into float)\n",
    "        target_prob = target_prob.data.item()\n",
    "        \n",
    "        # visualize the current state\n",
    "        print(f\"({i+1}/{num_iter}), {target_prob * 100} confidence\")\n",
    "        \n",
    "        if target_prob > threshold:\n",
    "            break\n",
    "    \n",
    "    delta = (image_in - orig_data).data\n",
    "    return image_in, delta\n",
    "\n",
    "\n",
    "num_images = 2\n",
    "target_class=113\n",
    "for cidx, cname in enumerate(classes):\n",
    "    dataset = class_datasets[cidx]\n",
    "    \n",
    "    images_in = []\n",
    "    fooling_images = []\n",
    "    deltas = []\n",
    "    \n",
    "    for i, input in enumerate(dataset):\n",
    "      image_in = input[0]\n",
    "      label = input[1]\n",
    "      \n",
    "      fooling_image, delta = make_fooling_image(\n",
    "          image_in,\n",
    "          target_class=target_class,\n",
    "          learning_rate=1e-1,\n",
    "          regularization=5e-5,\n",
    "          num_iter=100,\n",
    "          momentum=0.9)\n",
    "      \n",
    "      delta = 0.5 + (5.0/255.0) * delta\n",
    "    \n",
    "      images_in.append(image_in)\n",
    "      fooling_images.append(fooling_image)\n",
    "      deltas.append(delta)\n",
    "    \n",
    "      if i >= num_images:\n",
    "        break\n",
    "        \n",
    "    print (\"\\nLeft: original, middle: fooling image, right: difference magnified by 5x (gray is 0).\\n\"\n",
    "        \"AlexNet will classify the middle image in each row as %r with high confidence\" % (\n",
    "        labels_id2word[target_class]))\n",
    "    show_image_rows(list(zip(images_in, fooling_images, deltas)))"
   ]
  },
  {
   "cell_type": "markdown",
   "metadata": {
    "colab_type": "text",
    "id": "_2-BlV4zZBtT"
   },
   "source": [
    "# 6. Class visualization\n",
    "We can visualize the knowledge inside AlexNet by starting with random noise and maximizing the probability of a certain class [2, 4]. This is similar to the idea of making a \"fooling\" image, except that the regularizer is a little different.\n",
    "\n",
    "Again, we can write this as a loss $L$ depending on the image $I$: $$\n",
    "L = -s_y(I) + R(I)\n",
    "$$\n",
    "\n",
    "where $$\n",
    "R(I) = 0.5 \\lambda \\|I\\|_2^2\n",
    "$$$y$ is the target class, and $\\lambda$ is the regularization.\n",
    "\n",
    "[[2] Karen Simonyan, Andrea Vedaldi, and Andrew Zisserman. \"Deep Inside Convolutional Networks: Visualising Image Classification Models and Saliency Maps\", ICLR Workshop 2014.](http://arxiv.org/pdf/1312.6034.pdf)\n",
    "\n",
    "[[4] Yosinski et al, \"Understanding Neural Networks Through Deep Visualization\", ICML 2015 Deep Learning Workshop](http://arxiv.org/pdf/1312.6034.pdf)"
   ]
  },
  {
   "cell_type": "markdown",
   "metadata": {
    "colab_type": "text",
    "id": "PyXeCdD90-O2"
   },
   "source": [
    "###**<font color=\"red\">TODO 6: Implement class_visualization_gradient: compute the gradient of the loss $({\\partial L \\over \\partial I})$**"
   ]
  },
  {
   "cell_type": "code",
   "execution_count": 0,
   "metadata": {
    "colab": {},
    "colab_type": "code",
    "id": "O3DOgy4gZT-y"
   },
   "outputs": [],
   "source": [
    "model = alexnet(pretrained=True)\n",
    "\n",
    "# Set the model to eval mode\n",
    "model.eval()\n",
    "\n",
    "def make_class_visualization(target_class, learning_rate, regularization, num_iter,\n",
    "                             max_jitter, blur_sigma, momentum):\n",
    "    \"\"\"\n",
    "    Visualize an ILSVRC2012 class by maximizing the probability of that class, starting from random.\n",
    "    \n",
    "    :param target_class: what ILSVRC2012 class to visualize\n",
    "    :param learning_rate: either a constant, or a function that returns the learning rate at each iteration\n",
    "    :param regularization: lambda parameter to multiply the regularizer\n",
    "    :param num_iter: number of iterations\n",
    "    :param max_jitter: amount of jitter to add for regularization\n",
    "    :param blur_sigma: blur each iteration by this amount.\n",
    "    :param momentum: amount of momentum to use in the SGD update\n",
    "    \"\"\"\n",
    "    \n",
    "    image_np = 100 * np.random.randn(1, 3, 224, 224).astype(np.float32)\n",
    "    vel_np = np.zeros_like(image_np)\n",
    "    \n",
    "    print(f\"Generating visualization of: {labels_id2word[target_class]}...\")\n",
    "    \n",
    "    for i in range(num_iter):\n",
    "        # Random jitter to regularize\n",
    "        ox, oy = np.random.randint(-max_jitter, max_jitter+1, 2)\n",
    "        \n",
    "        image_np = np.roll(np.roll(image_np, ox, -1), oy, -2)\n",
    "        vel_np = np.roll(np.roll(vel_np, ox, -1), oy, -2)\n",
    "        \n",
    "        image = Variable(torch.from_numpy(image_np), requires_grad=True)\n",
    "        velocity = Variable(torch.from_numpy(vel_np), requires_grad=False)\n",
    "        \n",
    "        # Compute the current class score\n",
    "        class_scores = model(image)[0]\n",
    "        class_probs = F.softmax(class_scores, 0)\n",
    "        \n",
    "        target_score = class_scores[target_class]\n",
    "        target_prob = class_probs[target_class]\n",
    "                \n",
    "        # Compute the gradient\n",
    "        grad = class_visualization_gradient(\n",
    "            target_score, image, target_class, regularization)\n",
    "        \n",
    "        # Normalized SGD+Momentum update\n",
    "        image, velocity = normalized_sgd_with_momentum_update(\n",
    "            image, grad, velocity, momentum, learning_rate)\n",
    "        \n",
    "        # Convert back to numpy\n",
    "        image_np = image.data.cpu().numpy()\n",
    "        vel_np = velocity.data.cpu().numpy()\n",
    "        \n",
    "        # Undo jitter\n",
    "        image_np = np.roll(np.roll(image_np, -ox, -1), -oy, -2)\n",
    "        vel_np = np.roll(np.roll(vel_np, -ox, -1), -oy, -2)\n",
    "        \n",
    "        # blur the image every iteration\n",
    "        for c in range(3):\n",
    "            image_np[0, c, ...] = gaussian_filter(image_np[0, c, ...], sigma=blur_sigma)\n",
    "        \n",
    "        # Convert to float\n",
    "        target_prob = target_prob.data.item()\n",
    "        target_score = target_score.data.item()\n",
    "        \n",
    "        # Visualize our current result\n",
    "        print(f\"({i+1}/{num_iter}), {target_prob * 100} % confidence, score: {target_score}\")\n",
    "    \n",
    "    return torch.from_numpy(image_np)[0]"
   ]
  },
  {
   "cell_type": "markdown",
   "metadata": {
    "colab_type": "text",
    "id": "6gxuUHicZc_E"
   },
   "source": [
    "## Generate images!\n",
    "Use make_class_visualization to visualize an example Flamingo or Tarantula. You can play around with the hyperparameters or generate new classes, but you must at least generate a Flamingo or Tarantula.\n",
    "\n",
    "The list of classes is in ~/caffe/data/ilsvrc12/synset_words.txt (this is downloaded in a cell above)."
   ]
  },
  {
   "cell_type": "code",
   "execution_count": 0,
   "metadata": {
    "colab": {},
    "colab_type": "code",
    "id": "sLMxJ_AjZgJL"
   },
   "outputs": [],
   "source": [
    "target_class = 130 # flamingo\n",
    "image = make_class_visualization(\n",
    "    target_class=target_class,\n",
    "    learning_rate=200,\n",
    "    regularization=1e-7,\n",
    "    num_iter=250,\n",
    "    max_jitter=5,\n",
    "    blur_sigma=0.4,\n",
    "    momentum=0.9,\n",
    ")\n",
    "\n",
    "show_image(image, f\"Visualization for: {labels_id2word[target_class]}\")"
   ]
  },
  {
   "cell_type": "code",
   "execution_count": 0,
   "metadata": {
    "colab": {},
    "colab_type": "code",
    "id": "WjjHYEK-ZpYL"
   },
   "outputs": [],
   "source": [
    "target_class = 76 # tarantula\n",
    "image = make_class_visualization(\n",
    "    target_class=target_class,\n",
    "    learning_rate=200,\n",
    "    regularization=1e-7,\n",
    "    num_iter=250,\n",
    "    max_jitter=5,\n",
    "    blur_sigma=0.4,\n",
    "    momentum=0.9,\n",
    ")\n",
    "\n",
    "show_image(image, f\"Visualization for: {labels_id2word[target_class]}\")"
   ]
  },
  {
   "cell_type": "code",
   "execution_count": 0,
   "metadata": {
    "colab": {},
    "colab_type": "code",
    "id": "tljQg3TeZugF"
   },
   "outputs": [],
   "source": [
    "# Try other classes here"
   ]
  },
  {
   "cell_type": "markdown",
   "metadata": {
    "colab_type": "text",
    "id": "R8fb3g3p3LRx"
   },
   "source": [
    "# Test cases\n",
    "## Run These blocks to test your code\n",
    "\n",
    "### Helper functions"
   ]
  },
  {
   "cell_type": "code",
   "execution_count": 0,
   "metadata": {
    "colab": {},
    "colab_type": "code",
    "id": "7GwB4yjy3Usk"
   },
   "outputs": [],
   "source": [
    "import io\n",
    "base_dir = \"http://www.cs.cornell.edu/courses/cs5670/2019sp/projects/pa5/\"\n",
    "def _load(fname):\n",
    "    \"\"\" Helper to load compressed .npz arrays \"\"\"\n",
    "    f = urllib.request.urlopen(base_dir+fname).read()\n",
    "    f = io.BytesIO(f)\n",
    "    return np.load(f)['arr_0']\n",
    "\n",
    "\n",
    "def relative_error(expected, actual, epsilon=1e-5):\n",
    "    \"\"\" Mean relative error between two arrays \"\"\"\n",
    "    return np.mean(\n",
    "        np.abs(expected - actual) /\n",
    "        np.maximum(np.abs(actual), epsilon)\n",
    "    )"
   ]
  },
  {
   "cell_type": "markdown",
   "metadata": {
    "colab_type": "text",
    "id": "eT0VZYVy3Xm6"
   },
   "source": [
    "### Test `compute_dscore_dimage`"
   ]
  },
  {
   "cell_type": "code",
   "execution_count": 0,
   "metadata": {
    "colab": {},
    "colab_type": "code",
    "id": "O8bsBAdd3Wnx"
   },
   "outputs": [],
   "source": [
    "net = alexnet(pretrained=True)\n",
    "THRESH = 1e-2\n",
    "def test_compute_dscore_dimage():\n",
    "    image = _load(\"expected/data.npz\")\n",
    "    expected =  _load(\"expected/compute_dscore_dimage-grad.npz\")\n",
    "    image = torch.from_numpy(image).unsqueeze(0)    \n",
    "    image_in = Variable(image, requires_grad=True)\n",
    "    cls_scores = net(image_in)[0]\n",
    "    actual_grad = compute_dscore_dimage(cls_scores, image_in, 254)\n",
    "\n",
    "    # relative error must be small\n",
    "    assert relative_error(expected, actual_grad.data.numpy()) < THRESH\n",
    "    print(\"Passed!\")\n",
    "test_compute_dscore_dimage()"
   ]
  },
  {
   "cell_type": "code",
   "execution_count": 0,
   "metadata": {
    "colab": {},
    "colab_type": "code",
    "id": "GAfbNGep6Tbg"
   },
   "outputs": [],
   "source": [
    "net = alexnet(pretrained=True)\n",
    "THRESH = 1e-2\n",
    "def test_normalized_sgd_with_momentum_update():\n",
    "    image = _load(\"expected/data.npz\")\n",
    "    grad = _load('expected/normalized_sgd_with_momentum_update-grad.npz')\n",
    "    velocity = _load('expected/normalized_sgd_with_momentum_update-velocity.npz')\n",
    "    expected_data = _load('expected/normalized_sgd_with_momentum_update-new_data.npz')\n",
    "    expected_velocity = _load('expected/normalized_sgd_with_momentum_update-new_velocity.npz')\n",
    "    \n",
    "    image = torch.from_numpy(image).unsqueeze(0)\n",
    "    image = Variable(image, requires_grad=True)\n",
    "\n",
    "    grad = torch.from_numpy(grad)\n",
    "    grad = Variable(grad, requires_grad=True)\n",
    "\n",
    "    velocity = torch.from_numpy(velocity)\n",
    "    velocity = Variable(velocity, requires_grad=True)\n",
    "\n",
    "    momentum = 0.99\n",
    "    learning_rate = 100\n",
    "\n",
    "    new_data, new_velocity = normalized_sgd_with_momentum_update(\n",
    "        image, grad, velocity, momentum, learning_rate)\n",
    "\n",
    "    # relative error must be small\n",
    "    assert relative_error(expected_data, new_data.data.numpy()) < THRESH\n",
    "    assert relative_error(expected_velocity, new_velocity.data.numpy()) < THRESH\n",
    "    print(\"Passed!\")\n",
    "test_normalized_sgd_with_momentum_update()"
   ]
  },
  {
   "cell_type": "markdown",
   "metadata": {
    "colab_type": "text",
    "id": "9reuvXG16S4T"
   },
   "source": [
    "### Test `normalized_sgd_with_momentum_update`"
   ]
  },
  {
   "cell_type": "markdown",
   "metadata": {
    "colab_type": "text",
    "id": "xsFG6Ux74Xvi"
   },
   "source": [
    "### Test `fooling_image_gradient`"
   ]
  },
  {
   "cell_type": "code",
   "execution_count": 0,
   "metadata": {
    "colab": {},
    "colab_type": "code",
    "id": "FKCDL5kx4bwa"
   },
   "outputs": [],
   "source": [
    "net = alexnet(pretrained=True)\n",
    "THRESH = 1e-2\n",
    "def test_fooling_image_gradient():\n",
    "    image = torch.from_numpy(_load(\"expected/data.npz\")).unsqueeze(0)\n",
    "    image = Variable(image, requires_grad=True)\n",
    "\n",
    "    new_image = torch.from_numpy(\\\n",
    "            _load(\"expected/normalized_sgd_with_momentum_update-new_data.npz\"))\n",
    "\n",
    "    new_image = Variable(new_image, requires_grad=True)\n",
    "    \n",
    "    curr_scores = net(new_image)[0]\n",
    "    target_score = curr_scores[113]\n",
    "    regularization = 1e-3\n",
    "    target_grad = fooling_image_gradient(target_score, image, new_image, target_class, regularization)\n",
    "    expected = _load('expected/fooling_image_gradient-grad.npz')\n",
    "    assert relative_error(expected, target_grad.data.numpy()) < THRESH\n",
    "    print(\"Passed!\")\n",
    "    \n",
    "test_fooling_image_gradient()"
   ]
  },
  {
   "cell_type": "markdown",
   "metadata": {
    "colab_type": "text",
    "id": "THEbuwxm4_WT"
   },
   "source": [
    "### Test `test_class_visualization_gradient`"
   ]
  },
  {
   "cell_type": "code",
   "execution_count": 0,
   "metadata": {
    "colab": {},
    "colab_type": "code",
    "id": "aLsb3Jqz4_hX"
   },
   "outputs": [],
   "source": [
    "net = alexnet(pretrained=True)\n",
    "THRESH = 1e-2\n",
    "def test_class_visualization_gradient():\n",
    "    image = torch.from_numpy(_load(\"expected/class_visualization_gradient-cur_data.npz\")).unsqueeze(0)\n",
    "    image = Variable(image, requires_grad=True)\n",
    "    \n",
    "    target_class = 130\n",
    "    class_scores = net(image)[0]\n",
    "    target_score = class_scores[target_class]\n",
    "    regularization = 1e-3\n",
    "\n",
    "    grad = class_visualization_gradient(target_score, image, target_class, regularization)\n",
    "    \n",
    "    expected = _load('expected/class_visualization_gradient-grad.npz')\n",
    "    assert relative_error(expected, grad.data.numpy()) < THRESH\n",
    "    print(\"Passed!\")\n",
    "test_class_visualization_gradient()"
   ]
  }
 ],
 "metadata": {
  "colab": {
   "collapsed_sections": [],
   "name": "CS5670_Project5_Main_Notebook.ipynb",
   "provenance": [],
   "toc_visible": true,
   "version": "0.3.2"
  },
  "kernelspec": {
   "display_name": "Python 3",
   "language": "python",
   "name": "python3"
  },
  "language_info": {
   "codemirror_mode": {
    "name": "ipython",
    "version": 2
   },
   "file_extension": ".py",
   "mimetype": "text/x-python",
   "name": "python",
   "nbconvert_exporter": "python",
   "pygments_lexer": "ipython2",
   "version": "2.7.15"
  }
 },
 "nbformat": 4,
 "nbformat_minor": 1
}
